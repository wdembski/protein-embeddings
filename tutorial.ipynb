{
 "cells": [
  {
   "cell_type": "markdown",
   "metadata": {},
   "source": [
    "This tutorial is super short as there is only one method to know how to use. "
   ]
  },
  {
   "cell_type": "code",
   "execution_count": 4,
   "metadata": {},
   "outputs": [],
   "source": [
    "# Import the package\n",
    "import embed_proteins as ep"
   ]
  },
  {
   "cell_type": "code",
   "execution_count": 5,
   "metadata": {},
   "outputs": [],
   "source": [
    "# This sequence is a protein - a sequence of amino acids.  It is in the form of each amino acid's letter correspondent\n",
    "sequence = 'SFPRLKPAIGVDFKSKYAVSDEDFKKVVAIIRLAVPYTGMILTAREPAQLRREVLKLGVSQIDGGSSIGIGSYSKSDPETLKKSQFTLYDTRSLEEIIQELLKEGYI'\n",
    "\n",
    "# Using this method, we get the 128 dimensional embedding of a protein. This is found by extracting the hidden state of a \n",
    "#recurrent neural network that was already pretrained on proteins.  \n",
    "hidden = ep.get_hidden_state(sequence)"
   ]
  },
  {
   "cell_type": "code",
   "execution_count": 6,
   "metadata": {},
   "outputs": [
    {
     "data": {
      "text/plain": [
       "array([ 2.74865091e-01, -2.06845865e-01,  4.64851379e-01,  8.93356726e-02,\n",
       "        2.99962282e-01,  1.99266374e-01,  7.68100321e-02, -5.55577636e-01,\n",
       "       -5.62220961e-02,  2.94572711e-02,  8.62237513e-02, -2.56722301e-01,\n",
       "        1.37238249e-01,  2.08275527e-01, -6.09027743e-02, -2.24897608e-01,\n",
       "        1.52601004e-02, -1.62375450e-01,  2.45733976e-01,  8.53412747e-02,\n",
       "        2.70465687e-02,  5.07870615e-01,  2.46646181e-01,  2.89963484e-02,\n",
       "        1.76258534e-01,  3.91660631e-02, -2.83723563e-01, -3.42037342e-02,\n",
       "       -1.15575314e-01,  2.58858293e-01,  3.10331881e-02, -6.19815886e-02,\n",
       "        1.42639637e-01, -1.96119752e-02, -1.68286145e-01,  6.35964572e-02,\n",
       "        5.89511506e-02, -8.28357339e-02, -2.61526927e-02,  8.19417462e-02,\n",
       "        5.42720616e-01, -3.80185038e-01,  7.86238015e-02, -6.07823133e-02,\n",
       "       -1.26854047e-01,  7.31906593e-02,  1.55330598e-02,  1.18067026e-01,\n",
       "       -1.19812414e-01,  3.47386837e-01,  4.15915012e-01, -1.23454392e-01,\n",
       "        2.01703720e-02,  2.28771865e-02,  4.30316031e-02, -1.82872415e-02,\n",
       "        8.95178169e-02, -1.45268142e-02,  1.54220045e-01, -6.66212142e-01,\n",
       "        1.18774675e-01,  2.64193416e-02, -1.51819065e-01, -3.48420292e-02,\n",
       "       -1.07506596e-01, -7.59375244e-02,  3.63113880e-02,  8.43668506e-02,\n",
       "        1.38909481e-02,  1.15874112e-02, -9.70085859e-02, -5.28492272e-01,\n",
       "       -3.38116199e-01,  8.12304914e-01, -1.63280323e-01, -1.04139052e-01,\n",
       "        1.72961801e-02,  3.20609540e-01, -1.16522819e-01,  9.15350690e-02,\n",
       "        1.93511084e-01, -3.43692899e-02,  2.62358487e-02,  3.75096917e-01,\n",
       "       -1.87408581e-01,  1.22558028e-02,  8.36073458e-01, -6.13670349e-02,\n",
       "        5.66832602e-01,  4.76641059e-02,  8.76051784e-02, -3.93184423e-02,\n",
       "       -1.92269310e-02,  5.26665747e-01,  7.02339411e-02, -2.33835340e-01,\n",
       "        2.15879828e-03, -2.60210544e-01,  4.96424437e-02,  1.59770429e-01,\n",
       "       -9.51044261e-03,  4.91801202e-02,  7.42351450e-03,  9.91091803e-02,\n",
       "       -6.25298917e-02, -1.42921507e-02,  2.64746845e-02,  9.24837142e-02,\n",
       "        3.28303576e-02, -1.45599380e-01,  2.64713168e-01,  1.59376264e-01,\n",
       "       -1.06302470e-01,  9.76263210e-02, -7.67651200e-03, -1.11584976e-01,\n",
       "        7.94543326e-02, -5.28992414e-01,  2.44182795e-02,  5.26878312e-02,\n",
       "       -1.20647429e-02,  2.86843836e-01, -5.14104366e-02,  4.42619592e-01,\n",
       "       -7.90854450e-04,  5.45900837e-02, -2.69426465e-01, -1.41002089e-01],\n",
       "      dtype=float32)"
      ]
     },
     "execution_count": 6,
     "metadata": {},
     "output_type": "execute_result"
    }
   ],
   "source": [
    "#snapshot of what the embedding can look like\n",
    "hidden"
   ]
  },
  {
   "cell_type": "markdown",
   "metadata": {},
   "source": [
    "Now we have the embedding of a protein using just the amino acid sequence."
   ]
  },
  {
   "cell_type": "code",
   "execution_count": null,
   "metadata": {},
   "outputs": [],
   "source": []
  }
 ],
 "metadata": {
  "kernelspec": {
   "display_name": "py (ml)",
   "language": "python",
   "name": "ml"
  },
  "language_info": {
   "codemirror_mode": {
    "name": "ipython",
    "version": 3
   },
   "file_extension": ".py",
   "mimetype": "text/x-python",
   "name": "python",
   "nbconvert_exporter": "python",
   "pygments_lexer": "ipython3",
   "version": "3.7.0"
  }
 },
 "nbformat": 4,
 "nbformat_minor": 2
}
